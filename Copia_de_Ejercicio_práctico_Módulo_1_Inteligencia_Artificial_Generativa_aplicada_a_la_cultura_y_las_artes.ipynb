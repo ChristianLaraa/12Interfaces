{
  "cells": [
    {
      "cell_type": "markdown",
      "metadata": {
        "id": "view-in-github",
        "colab_type": "text"
      },
      "source": [
        "<a href=\"https://colab.research.google.com/github/ChristianLaraa/12Interfaces/blob/main/Copia_de_Ejercicio_pra%CC%81ctico_Mo%CC%81dulo_1_Inteligencia_Artificial_Generativa_aplicada_a_la_cultura_y_las_artes.ipynb\" target=\"_parent\"><img src=\"https://colab.research.google.com/assets/colab-badge.svg\" alt=\"Open In Colab\"/></a>"
      ]
    },
    {
      "cell_type": "markdown",
      "id": "826e7559",
      "metadata": {
        "id": "826e7559"
      },
      "source": [
        "# Inteligencia Artificial Generativa aplicada a la cultura y las artes"
      ]
    },
    {
      "cell_type": "markdown",
      "id": "0d37aab6",
      "metadata": {
        "id": "0d37aab6"
      },
      "source": [
        "- Ernesto Miranda Trigueros\n",
        "- Daniel Barbedillo"
      ]
    },
    {
      "cell_type": "markdown",
      "id": "779f727b",
      "metadata": {
        "id": "779f727b"
      },
      "source": [
        "En este curso de Inteligencia Artificial Aplicada al Arte y la Cultura, exploraremos el cruce entre la tecnología y la creatividad. Descubriremos cómo la inteligencia artificial se ha convertido en una herramienta poderosa para impulsar la innovación en el mundo del arte y la cultura, y cómo está transformando la forma en que creamos, apreciamos y experimentamos manifestaciones culturales. A lo largo de cuatro módulos, los participantes adquirirán conocimientos prácticos y teóricos sobre cómo la IA está redefiniendo estos campos y cómo pueden utilizarla en sus propios proyectos creativos.\n",
        "\n"
      ]
    },
    {
      "cell_type": "markdown",
      "id": "c4c0ac6b",
      "metadata": {
        "id": "c4c0ac6b"
      },
      "source": [
        "# Módulo 1"
      ]
    },
    {
      "cell_type": "markdown",
      "id": "7a9f0a55",
      "metadata": {
        "id": "7a9f0a55"
      },
      "source": [
        "# Ejercicio práctico:"
      ]
    },
    {
      "cell_type": "markdown",
      "id": "56391afb",
      "metadata": {
        "id": "56391afb"
      },
      "source": [
        "### Entrenar un clasificador con aprendizaje supervisado."
      ]
    },
    {
      "cell_type": "markdown",
      "id": "f478732d",
      "metadata": {
        "id": "f478732d"
      },
      "source": [
        "![MNIST Dataset](https://upload.wikimedia.org/wikipedia/commons/f/f7/MnistExamplesModified.png)\n",
        "\n",
        "![MNIST Labels](https://miro.medium.com/v2/resize:fit:1080/0*Yf6jSy8y3QHHhAws)\n",
        "\n",
        "**Conjunto de Datos MNIST: Introducción**\n",
        "\n",
        "El conjunto de datos MNIST es un recurso ampliamente utilizado en el campo de la visión por computadora y el aprendizaje automático. MNIST representa el \"Conjunto de Datos de Dígitos Manuscritos de la Base de Datos Nacional de Institutos de Estándares y Tecnología\" en inglés. Consiste en una colección de 70,000 imágenes en escala de grises de dígitos escritos a mano, del 0 al 9. Cada imagen tiene una resolución de 28x28 píxeles, lo que significa que son relativamente pequeñas pero lo suficientemente detalladas para reconocer los dígitos.\n",
        "\n",
        "**El Ejercicio: Clasificación de Dígitos MNIST**\n",
        "\n",
        "El ejercicio relacionado con el conjunto de datos MNIST implica la clasificación de estos dígitos manuscritos en sus respectivas categorías, es decir, asignar cada imagen a uno de los dígitos del 0 al 9. Este es un problema de clasificación multiclase, donde el objetivo es entrenar un modelo de aprendizaje automático para que pueda predecir el dígito correcto en una imagen nueva y no vista previamente.\n",
        "\n",
        "**Pasos del Ejercicio:**\n",
        "\n",
        "1. **Cargar el Conjunto de Datos**: Primero, cargamos el conjunto de datos MNIST, que consta de imágenes de entrenamiento y prueba.\n",
        "\n",
        "2. **Preprocesamiento de Datos**: Preprocesamos las imágenes para que sean adecuadas para la entrada de una red neuronal. En este caso, reorganizamos los datos, escalamos los valores de píxeles al rango [0, 1], y codificamos las etiquetas de manera que representen los dígitos como vectores one-hot.\n",
        "\n",
        "3. **Diseñar una Red Neuronal**: Diseñamos una red neuronal para aprender y realizar la clasificación. Esto implica definir la arquitectura de la red, incluyendo el número de capas y unidades en cada capa, así como las funciones de activación.\n",
        "\n",
        "4. **Compilar el Modelo**: Compilamos el modelo especificando el optimizador, la función de pérdida y las métricas que se utilizarán para evaluar su rendimiento.\n",
        "\n",
        "5. **Entrenar el Modelo**: Utilizamos los datos de entrenamiento para entrenar la red neuronal. El modelo ajusta sus pesos y bias durante este proceso para aprender a reconocer los dígitos.\n",
        "\n",
        "6. **Evaluar el Modelo**: Después de entrenar, evaluamos el rendimiento del modelo utilizando datos de prueba. Calculamos métricas como la precisión para medir cuán bien puede clasificar los dígitos.\n",
        "\n",
        "7. **Visualizar Predicciones**: Finalmente, visualizamos algunas de las predicciones del modelo en imágenes de prueba para ver cómo se desempeña en la clasificación de dígitos escritos a mano.\n",
        "\n",
        "Este ejercicio es un punto de partida común para comprender la clasificación de imágenes y las redes neuronales en el aprendizaje automático y puede servir como una base para proyectos más avanzados en visión por computadora y reconocimiento de patrones."
      ]
    },
    {
      "cell_type": "code",
      "execution_count": null,
      "id": "9979f837",
      "metadata": {
        "id": "9979f837"
      },
      "outputs": [],
      "source": [
        "# Importar las bibliotecas necesarias\n",
        "import numpy as np\n",
        "import matplotlib.pyplot as plt\n",
        "from tensorflow.keras.datasets import mnist\n",
        "from tensorflow.keras.models import Sequential\n",
        "from tensorflow.keras.layers import Dense\n",
        "from tensorflow.keras.utils import to_categorical"
      ]
    },
    {
      "cell_type": "code",
      "execution_count": null,
      "id": "7e7504a6",
      "metadata": {
        "id": "7e7504a6"
      },
      "outputs": [],
      "source": [
        "# Cargar el conjunto de datos MNIST\n",
        "(X_train, y_train), (X_test, y_test) = mnist.load_data()"
      ]
    },
    {
      "cell_type": "code",
      "execution_count": null,
      "id": "a9742bfd",
      "metadata": {
        "id": "a9742bfd"
      },
      "outputs": [],
      "source": [
        "# Preprocesar los datos\n",
        "# Reorganizar los datos de entrenamiento y prueba\n",
        "X_train = X_train.reshape((X_train.shape[0], 28 * 28))\n",
        "X_train = X_train.astype('float32') / 255\n",
        "X_test = X_test.reshape((X_test.shape[0], 28 * 28))\n",
        "X_test = X_test.astype('float32') / 255"
      ]
    },
    {
      "cell_type": "code",
      "execution_count": null,
      "id": "4366f465",
      "metadata": {
        "id": "4366f465"
      },
      "outputs": [],
      "source": [
        "# Codificar las etiquetas como one-hot vectors # [0, 0, 0, 1, 0, 0, 0, 0, 0, 0]\n",
        "y_train = to_categorical(y_train)\n",
        "y_test = to_categorical(y_test)"
      ]
    },
    {
      "cell_type": "code",
      "execution_count": null,
      "id": "6717bfaf",
      "metadata": {
        "id": "6717bfaf"
      },
      "outputs": [],
      "source": [
        "# Diseñar una red neuronal simple\n",
        "model = Sequential()\n",
        "model.add(Dense(128, input_shape=(28 * 28,), activation='relu')) # 1D array 784 (28 pixels by 28 pixels)\n",
        "model.add(Dense(64, activation='relu')) # f(x) = 0 if x <= 0\n",
        "model.add(Dense(10, activation='softmax')) # Entre 0 y 1"
      ]
    },
    {
      "cell_type": "code",
      "execution_count": null,
      "id": "899436c9",
      "metadata": {
        "id": "899436c9"
      },
      "outputs": [],
      "source": [
        "# Compilar el modelo\n",
        "model.compile(optimizer='adam', loss='categorical_crossentropy', metrics=['accuracy']) # multi-class classification"
      ]
    },
    {
      "cell_type": "code",
      "execution_count": null,
      "id": "379e8140",
      "metadata": {
        "id": "379e8140"
      },
      "outputs": [],
      "source": [
        "# Entrenar la red neuronal\n",
        "model.fit(X_train, y_train, epochs=5, batch_size=64, validation_split=0.2)"
      ]
    },
    {
      "cell_type": "code",
      "execution_count": null,
      "id": "6b1afd66",
      "metadata": {
        "id": "6b1afd66"
      },
      "outputs": [],
      "source": [
        "# Evaluar el modelo en los datos de prueba\n",
        "loss, accuracy = model.evaluate(X_test, y_test)\n",
        "print(f'Precisión en la prueba: {accuracy * 100:.2f}%')"
      ]
    },
    {
      "cell_type": "code",
      "execution_count": null,
      "id": "322788c6",
      "metadata": {
        "id": "322788c6"
      },
      "outputs": [],
      "source": [
        "# Visualizar las predicciones para algunas imágenes de prueba\n",
        "n_muestras = 5\n",
        "índices_muestra = np.random.choice(X_test.shape[0], n_muestras)\n",
        "imágenes_muestra = X_test[índices_muestra]\n",
        "etiquetas_muestra = np.argmax(y_test[índices_muestra], axis=1)\n",
        "predicciones = model.predict(imágenes_muestra)\n",
        "etiquetas_predichas = np.argmax(predicciones, axis=1)"
      ]
    },
    {
      "cell_type": "code",
      "execution_count": null,
      "id": "767f8322",
      "metadata": {
        "id": "767f8322"
      },
      "outputs": [],
      "source": [
        "# Mostrar las imágenes de muestra y sus etiquetas predichas\n",
        "plt.figure(figsize=(12, 4))\n",
        "for i in range(n_muestras):\n",
        "    plt.subplot(1, n_muestras, i + 1)\n",
        "    plt.imshow(imágenes_muestra[i].reshape(28, 28), cmap='gray')\n",
        "    plt.title(f'Predicción: {etiquetas_predichas[i]}, Real: {etiquetas_muestra[i]}')\n",
        "    plt.axis('off')\n",
        "\n",
        "plt.show()"
      ]
    }
  ],
  "metadata": {
    "kernelspec": {
      "display_name": "Python 3 (ipykernel)",
      "language": "python",
      "name": "python3"
    },
    "language_info": {
      "codemirror_mode": {
        "name": "ipython",
        "version": 3
      },
      "file_extension": ".py",
      "mimetype": "text/x-python",
      "name": "python",
      "nbconvert_exporter": "python",
      "pygments_lexer": "ipython3",
      "version": "3.9.12"
    },
    "colab": {
      "provenance": [],
      "include_colab_link": true
    }
  },
  "nbformat": 4,
  "nbformat_minor": 5
}